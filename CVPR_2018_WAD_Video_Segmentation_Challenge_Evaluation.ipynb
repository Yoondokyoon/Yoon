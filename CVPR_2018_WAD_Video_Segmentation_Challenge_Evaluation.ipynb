{
  "nbformat": 4,
  "nbformat_minor": 0,
  "metadata": {
    "colab": {
      "name": "CVPR 2018 WAD Video Segmentation Challenge Evaluation.ipynb",
      "version": "0.3.2",
      "provenance": [],
      "include_colab_link": true
    },
    "kernelspec": {
      "name": "python3",
      "display_name": "Python 3"
    }
  },
  "cells": [
    {
      "cell_type": "markdown",
      "metadata": {
        "id": "view-in-github",
        "colab_type": "text"
      },
      "source": [
        "[View in Colaboratory](https://colab.research.google.com/github/Yoondokyoon/Yoon/blob/master/CVPR_2018_WAD_Video_Segmentation_Challenge_Evaluation.ipynb)"
      ]
    },
    {
      "metadata": {
        "id": "T5WRCnpgDdbr",
        "colab_type": "text"
      },
      "cell_type": "markdown",
      "source": [
        "# 특히 주의해야 할 사항\n",
        "\n",
        "이 컴페티션에서 사용된 메트릭에 대한 계산량<sup>resource</sup>은 다른 캐글 competition에 비해 상당히 높습니다.\n",
        "\n",
        "제출 후 점수를 받는데 시간이 소요될 수 있음을 인지했으면 좋겠습니다.\n",
        "\n",
        "이 메트릭은 평가 서버에 부담을 주기 때문에 하루에 제출을 한 번만 허용하는 점에 대해 양해를 부탁드립니다.\n",
        "\n",
        "제출을 현명하게 하시길 바랍니다.\n",
        "\n",
        "\n",
        "# 평가 메트릭\n",
        "\n",
        "이번 컴페티션에서는 자동차,오토바이, 차량, 보행자, 자전거, 버스, 세발자전거의 7개의 instance-level에 해당하는 주석<sup>annotation</sup>에 대해 평가합니다.\n",
        "\n",
        "차량 그룹 및 자전거 그룹과 같은 해당<sup>corresponding</sup> 그룹은 라벨을 통해 경계를 구별할 수 없을 때에 해당합니다.\n",
        "\n",
        "이러한 그룹은 평가되지 않습니다.\n",
        "\n",
        "\n",
        "\n"
      ]
    }
  ]
}